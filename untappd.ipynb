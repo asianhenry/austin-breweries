{
 "cells": [
  {
   "cell_type": "code",
   "execution_count": 1,
   "metadata": {},
   "outputs": [],
   "source": [
    "import pandas as pd\n",
    "from splinter import Browser\n",
    "from bs4 import BeautifulSoup"
   ]
  },
  {
   "cell_type": "code",
   "execution_count": 2,
   "metadata": {},
   "outputs": [],
   "source": [
    "executable_path = {'executable_path': 'chromedriver.exe'}\n",
    "browser = Browser('chrome', **executable_path, headless=True)"
   ]
  },
  {
   "cell_type": "code",
   "execution_count": 3,
   "metadata": {},
   "outputs": [],
   "source": [
    "breweries= pd.read_csv('breweries.csv')"
   ]
  },
  {
   "cell_type": "code",
   "execution_count": 4,
   "metadata": {},
   "outputs": [],
   "source": [
    "url_list=[ x for x in breweries['Untappd']]\n",
    "brewery_list=[ x for x in breweries['Brewery']]"
   ]
  },
  {
   "cell_type": "code",
   "execution_count": 14,
   "metadata": {},
   "outputs": [],
   "source": [
    "#url_list"
   ]
  },
  {
   "cell_type": "code",
   "execution_count": 15,
   "metadata": {},
   "outputs": [],
   "source": [
    "#breweries['Untappd']"
   ]
  },
  {
   "cell_type": "code",
   "execution_count": 16,
   "metadata": {},
   "outputs": [],
   "source": [
    "html = browser.html\n",
    "soup = BeautifulSoup(html, 'html.parser')"
   ]
  },
  {
   "cell_type": "code",
   "execution_count": 17,
   "metadata": {},
   "outputs": [],
   "source": [
    "brewery_id = []\n",
    "x=0\n",
    "for brewery in breweries['Brewery']:\n",
    "    brewery_id += 5 * [x]\n",
    "    x +=1\n",
    "#brewery_id"
   ]
  },
  {
   "cell_type": "code",
   "execution_count": 37,
   "metadata": {},
   "outputs": [],
   "source": [
    "beer_name=[]\n",
    "beer_type=[]\n",
    "beer_abv=[]\n",
    "beer_ibu=[]\n",
    "beer_rating=[]\n",
    "beer_number_rating=[]\n",
    "\n",
    "for url in url_list:\n",
    "    browser.visit(url)\n",
    "    html = browser.html\n",
    "    soup = BeautifulSoup(html, 'html.parser')\n",
    "    beer = soup.find('div', class_='beer-container')\n",
    "    beer_name_search = beer.find_all('p', class_='name')[:5]\n",
    "    beer_type_search = beer.find_all('p', class_='style')[:5]\n",
    "    beer_abv_search = beer.find_all('div', class_='details-item abv')[:5]\n",
    "    beer_ibu_search = beer.find_all('div', class_='details-item ibu')[:5]\n",
    "    beer_rating_search = beer.find_all('span', class_='num')[:5]\n",
    "    beer_popular = beer.find_all('div', class_='details-item raters')[:5]\n",
    "    for paragraph in beer_name_search:\n",
    "        if paragraph.a:\n",
    "            beer_name.append(paragraph.a.text) \n",
    "    for paragraph in beer_type_search:\n",
    "        if paragraph.text:\n",
    "            beer_type.append(paragraph.text)\n",
    "    for paragraph in beer_abv_search:\n",
    "        if paragraph.text:\n",
    "            beer_abv.append(paragraph.text)\n",
    "    for paragraph in beer_ibu_search:\n",
    "        if paragraph.text:\n",
    "            beer_ibu.append(paragraph.text)\n",
    "    for paragraph in beer_rating_search:\n",
    "        if paragraph.text:\n",
    "            beer_rating.append(paragraph.text)\n",
    "    for paragraph in beer_popular:\n",
    "        if paragraph.text:\n",
    "            beer_number_rating.append(paragraph.text)"
   ]
  },
  {
   "cell_type": "code",
   "execution_count": 38,
   "metadata": {},
   "outputs": [
    {
     "name": "stdout",
     "output_type": "stream",
     "text": [
      "280\n",
      "280\n",
      "280\n",
      "280\n",
      "280\n",
      "280\n"
     ]
    }
   ],
   "source": [
    "print(len(beer_name))\n",
    "print(len(beer_type))\n",
    "print(len(beer_abv))\n",
    "print(len(beer_ibu))\n",
    "print(len(beer_rating))\n",
    "print(len(beer_number_rating))"
   ]
  },
  {
   "cell_type": "code",
   "execution_count": 34,
   "metadata": {},
   "outputs": [],
   "source": [
    "search_url = breweries['Untappd'][1]\n",
    "browser.visit(search_url)\n",
    "html = browser.html\n",
    "soup = BeautifulSoup(html, 'html.parser')\n",
    "beer = soup.find('div', class_='beer-container')"
   ]
  },
  {
   "cell_type": "code",
   "execution_count": 20,
   "metadata": {},
   "outputs": [],
   "source": [
    "beer = soup.find('div', class_='beer-container')\n",
    "beer_name_search = beer.find_all('p', class_='name')[:5]\n",
    "beer_type_search = beer.find_all('p', class_='style')[:5]\n",
    "beer_abv_search = beer.find_all('div', class_='details-item abv')[:5]\n",
    "beer_ibu_search = beer.find_all('div', class_='details-item ibu')[:5]\n",
    "beer_rating_search = beer.find_all('span', class_='num')[:5]\n",
    "beer_popular = beer.find_all('div', class_='details-item raters')[:5]"
   ]
  },
  {
   "cell_type": "code",
   "execution_count": 31,
   "metadata": {},
   "outputs": [],
   "source": [
    "beer_name = []\n",
    "for paragraph in beer_name_search:\n",
    "        if paragraph.a:\n",
    "            beer_name.append(paragraph.a.text)"
   ]
  },
  {
   "cell_type": "code",
   "execution_count": 40,
   "metadata": {},
   "outputs": [],
   "source": [
    "#beer_name"
   ]
  },
  {
   "cell_type": "code",
   "execution_count": 21,
   "metadata": {},
   "outputs": [],
   "source": [
    "beer_abv=[]\n",
    "for paragraph in beer_abv_search:\n",
    "    if paragraph.text:\n",
    "        beer_abv.append(paragraph.text)"
   ]
  },
  {
   "cell_type": "code",
   "execution_count": 22,
   "metadata": {},
   "outputs": [
    {
     "data": {
      "text/plain": [
       "['\\n5.8% ABV ', '\\n9.3% ABV ', '\\n7.8% ABV ', '\\n5.6% ABV ', '\\n10.9% ABV ']"
      ]
     },
     "execution_count": 22,
     "metadata": {},
     "output_type": "execute_result"
    }
   ],
   "source": [
    "beer_abv"
   ]
  },
  {
   "cell_type": "code",
   "execution_count": 23,
   "metadata": {},
   "outputs": [],
   "source": [
    "beer_ibu=[]\n",
    "for paragraph in beer_ibu_search:\n",
    "    if paragraph.text:\n",
    "        beer_ibu.append(paragraph.text)"
   ]
  },
  {
   "cell_type": "code",
   "execution_count": 24,
   "metadata": {},
   "outputs": [
    {
     "data": {
      "text/plain": [
       "['\\nN/A IBU ', '\\nN/A IBU ', '\\n36 IBU ', '\\n33 IBU ', '\\nN/A IBU ']"
      ]
     },
     "execution_count": 24,
     "metadata": {},
     "output_type": "execute_result"
    }
   ],
   "source": [
    "beer_ibu"
   ]
  },
  {
   "cell_type": "code",
   "execution_count": 25,
   "metadata": {},
   "outputs": [],
   "source": [
    "beer_abv=[]\n",
    "for paragraph in beer_abv_search:\n",
    "    if paragraph.a:\n",
    "        beer_name.append(paragraph.a.text)"
   ]
  },
  {
   "cell_type": "code",
   "execution_count": 27,
   "metadata": {},
   "outputs": [
    {
     "data": {
      "text/plain": [
       "[]"
      ]
     },
     "execution_count": 27,
     "metadata": {},
     "output_type": "execute_result"
    }
   ],
   "source": [
    "beer_name"
   ]
  },
  {
   "cell_type": "code",
   "execution_count": 28,
   "metadata": {},
   "outputs": [],
   "source": [
    "beer_type=[]\n",
    "for paragraph in beer_type_search:\n",
    "    if paragraph.text:\n",
    "        beer_type.append(paragraph.text)    "
   ]
  },
  {
   "cell_type": "code",
   "execution_count": 29,
   "metadata": {},
   "outputs": [
    {
     "data": {
      "text/plain": [
       "['Wheat Beer - Witbier',\n",
       " 'Belgian Tripel',\n",
       " 'Farmhouse Ale - Saison',\n",
       " 'Farmhouse Ale - Saison',\n",
       " 'Belgian Quadrupel']"
      ]
     },
     "execution_count": 29,
     "metadata": {},
     "output_type": "execute_result"
    }
   ],
   "source": [
    "beer_type"
   ]
  },
  {
   "cell_type": "code",
   "execution_count": 30,
   "metadata": {},
   "outputs": [],
   "source": [
    "beer_rating=[]\n",
    "for paragraph in beer_rating_search:\n",
    "    if paragraph.text:\n",
    "        beer_rating.append(paragraph.text)"
   ]
  },
  {
   "cell_type": "code",
   "execution_count": null,
   "metadata": {},
   "outputs": [],
   "source": [
    "beer_rating"
   ]
  },
  {
   "cell_type": "code",
   "execution_count": null,
   "metadata": {},
   "outputs": [],
   "source": [
    "beer_popular"
   ]
  },
  {
   "cell_type": "code",
   "execution_count": null,
   "metadata": {},
   "outputs": [],
   "source": [
    "beer_number_rating=[]\n",
    "for paragraph in beer_popular:\n",
    "    if paragraph.text:\n",
    "        beer_number_rating.append(paragraph.text)"
   ]
  },
  {
   "cell_type": "code",
   "execution_count": null,
   "metadata": {},
   "outputs": [],
   "source": [
    "beer_number_rating"
   ]
  },
  {
   "cell_type": "code",
   "execution_count": null,
   "metadata": {},
   "outputs": [],
   "source": [
    "beer_name\n",
    "beer_type\n",
    "beer_rating\n",
    "beer_number_rating"
   ]
  },
  {
   "cell_type": "code",
   "execution_count": null,
   "metadata": {},
   "outputs": [],
   "source": [
    "len(beer_number_rating)"
   ]
  },
  {
   "cell_type": "code",
   "execution_count": null,
   "metadata": {},
   "outputs": [],
   "source": [
    "#brewery_id\n",
    "#name\n",
    "#type\n",
    "#abv\n",
    "#ibu\n",
    "#rating\n",
    "#rating_count\n"
   ]
  }
 ],
 "metadata": {
  "kernelspec": {
   "display_name": "Python 3",
   "language": "python",
   "name": "python3"
  },
  "language_info": {
   "codemirror_mode": {
    "name": "ipython",
    "version": 3
   },
   "file_extension": ".py",
   "mimetype": "text/x-python",
   "name": "python",
   "nbconvert_exporter": "python",
   "pygments_lexer": "ipython3",
   "version": "3.7.4"
  }
 },
 "nbformat": 4,
 "nbformat_minor": 2
}
